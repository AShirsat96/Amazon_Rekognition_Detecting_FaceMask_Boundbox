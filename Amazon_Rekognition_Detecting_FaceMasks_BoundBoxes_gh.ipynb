{
 "cells": [
  {
   "cell_type": "markdown",
   "id": "c76306a2",
   "metadata": {},
   "source": [
    "### Detecting People with Face Masks"
   ]
  },
  {
   "cell_type": "code",
   "execution_count": 1,
   "id": "0063b0fd",
   "metadata": {},
   "outputs": [],
   "source": [
    "# Install once only - python official library from AWS\n",
    "# !pip install boto3"
   ]
  },
  {
   "cell_type": "markdown",
   "id": "e229789c",
   "metadata": {},
   "source": [
    "### define configuration"
   ]
  },
  {
   "cell_type": "code",
   "execution_count": 2,
   "id": "a90c79e6",
   "metadata": {},
   "outputs": [],
   "source": [
    "aws_accesskey = <Your Access Key>\n",
    "aws_secretaccess = <Your secret access key>\n",
    "myregion= <your region>"
   ]
  },
  {
   "cell_type": "code",
   "execution_count": 3,
   "id": "b0ab3096",
   "metadata": {},
   "outputs": [],
   "source": [
    "import boto3"
   ]
  },
  {
   "cell_type": "code",
   "execution_count": 4,
   "id": "91923e53",
   "metadata": {},
   "outputs": [],
   "source": [
    "import io"
   ]
  },
  {
   "cell_type": "code",
   "execution_count": 5,
   "id": "006bb242",
   "metadata": {},
   "outputs": [],
   "source": [
    "from PIL import Image, ImageDraw, ExifTags, ImageColor"
   ]
  },
  {
   "cell_type": "code",
   "execution_count": 6,
   "id": "d24c8656",
   "metadata": {},
   "outputs": [],
   "source": [
    "def detect_FaceMask(aws_access,aws_secret, aws_region,photo,confidence):\n",
    "\n",
    "    fill_green='#00d400'\n",
    "    fill_red='#ff0000'\n",
    "    fill_yellow='#ffff00'\n",
    "    line_width=3\n",
    "\n",
    "    #open image and get image data from stream.\n",
    "    image = Image.open(open(photo,'rb'))\n",
    "    stream = io.BytesIO()\n",
    "    image.save(stream, format=image.format)    \n",
    "    image_binary = stream.getvalue()\n",
    "    imgWidth, imgHeight = image.size  \n",
    "    draw = ImageDraw.Draw(image)  \n",
    "\n",
    "    Rekognition_client = boto3.client('rekognition',aws_access_key_id=aws_access,aws_secret_access_key=aws_secret,region_name =aws_region)\n",
    "\n",
    "    response = Rekognition_client.detect_protective_equipment(Image={'Bytes': image_binary})\n",
    "\n",
    "    for person in response['Persons']:\n",
    "        \n",
    "        found_mask=False\n",
    "\n",
    "        for body_part in person['BodyParts']:\n",
    "            ppe_items = body_part['EquipmentDetections']\n",
    "                 \n",
    "            for ppe_item in ppe_items:\n",
    "                #found a mask \n",
    "                if ppe_item['Type'] == 'FACE_COVER':\n",
    "                    fill_color=fill_green\n",
    "                    found_mask=True\n",
    "                    # check if mask covers face\n",
    "                    if ppe_item['CoversBodyPart']['Value'] == False:\n",
    "                        fill_color=fill='#ff0000'\n",
    "                    # draw bounding box around mask\n",
    "                    box = ppe_item['BoundingBox']\n",
    "                    left = imgWidth * box['Left']\n",
    "                    top = imgHeight * box['Top']\n",
    "                    width = imgWidth * box['Width']\n",
    "                    height = imgHeight * box['Height']\n",
    "                    points = (\n",
    "                            (left,top),\n",
    "                            (left + width, top),\n",
    "                            (left + width, top + height),\n",
    "                            (left , top + height),\n",
    "                            (left, top)\n",
    "                        )\n",
    "                    draw.line(points, fill=fill_color, width=line_width)\n",
    "\n",
    "                     # Check if confidence is lower than supplied value       \n",
    "                    if ppe_item['CoversBodyPart']['Confidence'] < confidence:\n",
    "                        #draw warning yellow bounding box within face mask bounding box\n",
    "                        offset=line_width+ line_width \n",
    "                        points = (\n",
    "                                    (left+offset,top + offset),\n",
    "                                    (left + width-offset, top+offset),\n",
    "                                    ((left) + (width-offset), (top-offset) + (height)),\n",
    "                                    (left+ offset , (top) + (height -offset)),\n",
    "                                    (left + offset, top + offset)\n",
    "                                )\n",
    "                        draw.line(points, fill=fill_yellow, width=line_width)\n",
    "        if found_mask==False:\n",
    "            # no face mask found so draw red bounding box around body\n",
    "            box = person['BoundingBox']\n",
    "            left = imgWidth * box['Left']\n",
    "            top = imgHeight * box['Top']\n",
    "            width = imgWidth * box['Width']\n",
    "            height = imgHeight * box['Height']\n",
    "            points = (\n",
    "                (left,top),\n",
    "                (left + width, top),\n",
    "                (left + width, top + height),\n",
    "                (left , top + height),\n",
    "                (left, top)\n",
    "                )\n",
    "            draw.line(points, fill=fill_red, width=line_width)                        \n",
    "    image.show()"
   ]
  },
  {
   "cell_type": "code",
   "execution_count": 7,
   "id": "27c3d955",
   "metadata": {},
   "outputs": [],
   "source": [
    "detect_FaceMask(aws_accesskey,aws_secretaccess,myregion,<photo file path>,<confidence>)"
   ]
  }
 ],
 "metadata": {
  "kernelspec": {
   "display_name": "Python 3",
   "language": "python",
   "name": "python3"
  },
  "language_info": {
   "codemirror_mode": {
    "name": "ipython",
    "version": 3
   },
   "file_extension": ".py",
   "mimetype": "text/x-python",
   "name": "python",
   "nbconvert_exporter": "python",
   "pygments_lexer": "ipython3",
   "version": "3.8.8"
  }
 },
 "nbformat": 4,
 "nbformat_minor": 5
}
